{
 "cells": [
  {
   "cell_type": "markdown",
   "metadata": {},
   "source": [
    "#  Chatbot \n",
    "\n"
   ]
  },
  {
   "cell_type": "markdown",
   "metadata": {},
   "source": [
    "## Import necessary libraries"
   ]
  },
  {
   "cell_type": "code",
   "execution_count": 11,
   "metadata": {},
   "outputs": [],
   "source": [
    "#pip install nltk\n",
    "import warnings\n",
    "warnings.filterwarnings('ignore')\n",
    "import random\n",
    "import string \n",
    "from sklearn.feature_extraction.text import TfidfVectorizer\n",
    "from sklearn.metrics.pairwise import cosine_similarity\n",
    "\n"
   ]
  },
  {
   "cell_type": "code",
   "execution_count": 39,
   "metadata": {},
   "outputs": [
    {
     "name": "stderr",
     "output_type": "stream",
     "text": [
      "[nltk_data] Downloading package punkt to\n",
      "[nltk_data]     C:\\Users\\Lillian\\AppData\\Roaming\\nltk_data...\n",
      "[nltk_data]   Package punkt is already up-to-date!\n",
      "[nltk_data] Downloading package wordnet to\n",
      "[nltk_data]     C:\\Users\\Lillian\\AppData\\Roaming\\nltk_data...\n",
      "[nltk_data]   Package wordnet is already up-to-date!\n",
      "[nltk_data] Downloading package omw-1.4 to\n",
      "[nltk_data]     C:\\Users\\Lillian\\AppData\\Roaming\\nltk_data...\n"
     ]
    },
    {
     "data": {
      "text/plain": [
       "True"
      ]
     },
     "execution_count": 39,
     "metadata": {},
     "output_type": "execute_result"
    }
   ],
   "source": [
    "import nltk\n",
    "from nltk.stem import WordNetLemmatizer\n",
    "nltk.download('punkt') \n",
    "nltk.download('wordnet') \n",
    "nltk.download('omw-1.4')"
   ]
  },
  {
   "cell_type": "code",
   "execution_count": 13,
   "metadata": {},
   "outputs": [],
   "source": [
    "## Reading the file(corpus)\n",
    "with open ('test.txt','r',errors = 'ignore') as f:\n",
    "    data=f.read().lower()\n"
   ]
  },
  {
   "cell_type": "markdown",
   "metadata": {},
   "source": [
    "## Preprocessing\n",
    "\n"
   ]
  },
  {
   "cell_type": "code",
   "execution_count": 14,
   "metadata": {},
   "outputs": [],
   "source": [
    "# Tokenize corpus into sentence and word\n",
    "sentTok = nltk.sent_tokenize(data)\n",
    "\n",
    "#lemmatization\n",
    "lemmer = nltk.stem.WordNetLemmatizer()\n",
    "\n",
    "def Lemmatize(tokens):\n",
    "    return [lemmer.lemmatize(token) for token in tokens]\n",
    "remove_punct_dict = dict((ord(punct), None) for punct in string.punctuation)"
   ]
  },
  {
   "cell_type": "code",
   "execution_count": 15,
   "metadata": {},
   "outputs": [],
   "source": [
    "# Normalization\n",
    "def Normalize(text):\n",
    "    return Lemmatize(nltk.word_tokenize(text.lower().translate(remove_punct_dict)))"
   ]
  },
  {
   "cell_type": "code",
   "execution_count": 16,
   "metadata": {},
   "outputs": [],
   "source": [
    "## Keyword matching\n",
    "# matching greeting with responses\n",
    "greetings = (\"hi there\",\"how are you\",\"hello\", \"hi\", \"greetings\", \"hola\", \"what's up\",\"hey\",)\n",
    "responses = [\"hi\", \"hey\", \"good\", \"hi there\", \"hello\", \"I am glad! You are talking to me\"]"
   ]
  },
  {
   "cell_type": "code",
   "execution_count": 17,
   "metadata": {},
   "outputs": [],
   "source": [
    "def greetResponse(sentence):\n",
    " \n",
    "    for word in sentence.split():\n",
    "        if word.lower() in greetings:\n",
    "            return random.choice(responses)\n",
    "\n",
    "  "
   ]
  },
  {
   "cell_type": "code",
   "execution_count": 18,
   "metadata": {},
   "outputs": [],
   "source": [
    "      \n",
    "        \n",
    "def getResponse(userInput):\n",
    "    botResponse = ''\n",
    "    sentTok.append(userInput)\n",
    "    \n",
    "    TfidfVec = TfidfVectorizer(tokenizer=Normalize, stop_words='english')\n",
    "    tfidf = TfidfVec.fit_transform(sentTok)\n",
    "    \n",
    "    vals = cosine_similarity(tfidf[-1], tfidf)\n",
    "    idx=vals.argsort()[0][-2]\n",
    "    \n",
    "    flat = vals.flatten()\n",
    "    flat.sort()\n",
    "    req_tfidf = flat[-2]\n",
    "    if(req_tfidf==0):\n",
    "        botResponse=botResponse+\"Sorry! I don't understand you\"\n",
    "        return botResponse\n",
    "    else:\n",
    "        botResponse = botResponse+sentTok[idx]\n",
    "        return botResponse"
   ]
  },
  {
   "cell_type": "code",
   "execution_count": 24,
   "metadata": {},
   "outputs": [],
   "source": [
    "# pip install pyttsx3\n"
   ]
  },
  {
   "cell_type": "code",
   "execution_count": 25,
   "metadata": {},
   "outputs": [],
   "source": [
    "# pip install SpeechRecognition"
   ]
  },
  {
   "cell_type": "code",
   "execution_count": 41,
   "metadata": {},
   "outputs": [],
   "source": [
    "import platform\n",
    "import pyttsx3\n",
    "import speech_recognition"
   ]
  },
  {
   "cell_type": "code",
   "execution_count": 42,
   "metadata": {},
   "outputs": [],
   "source": [
    "engine = pyttsx3.init()\n",
    "recognizer = speech_recognition.Recognizer()\n",
    "microphone = speech_recognition.Microphone()\n",
    "\n",
    "engine.setProperty('voice', r\"HKEY_LOCAL_MACHINE\\SOFTWARE\\Microsoft\\Speech\\Voices\\Tokens\\TTS_MS_EN-US_ZIRA_11.0\")"
   ]
  },
  {
   "cell_type": "code",
   "execution_count": 46,
   "metadata": {},
   "outputs": [
    {
     "name": "stdin",
     "output_type": "stream",
     "text": [
      "Type text if want chat through text or type audio audio\n"
     ]
    },
    {
     "name": "stdout",
     "output_type": "stream",
     "text": [
      "CBEBot is ready to chat! (type 'bye' to quit)\n"
     ]
    }
   ],
   "source": [
    "option=input(\"Type text if want chat through text or type audio\")\n",
    "\n",
    "answer = \"CBEBot is ready to chat! (type 'bye' to quit)\"\n",
    "print(answer)\n",
    "engine.say(answer)\n",
    "engine.runAndWait()\n",
    "\n",
    "flag=True"
   ]
  },
  {
   "cell_type": "code",
   "execution_count": null,
   "metadata": {},
   "outputs": [],
   "source": [
    "import platform\n",
    "import pyttsx3\n",
    "import speech_recognition \n",
    "\n",
    "\n",
    "engine = pyttsx3.init()\n",
    "recognizer = speech_recognition.Recognizer()\n",
    "microphone = speech_recognition.Microphone()\n",
    "\n",
    "engine.setProperty('voice', r\"HKEY_LOCAL_MACHINE\\SOFTWARE\\Microsoft\\Speech\\Voices\\Tokens\\TTS_MS_EN-US_ZIRA_11.0\")\n",
    "\n",
    "\n",
    "option=input(\"Type text if want chat through text or type audio\")\n",
    "\n",
    "answer = \"CBEBot is ready to chat! (type 'bye' to quit)\"\n",
    "print(answer)\n",
    "engine.say(answer)\n",
    "engine.runAndWait()\n",
    "\n",
    "flag=True\n",
    "\n",
    "\n",
    "while(flag==True):\n",
    "    with microphone as input_source:\n",
    "        recognizer.adjust_for_ambient_noise(input_source)\n",
    "        recognizer.dynamic_energy_threshold = True\n",
    "        \n",
    "        \n",
    "        myResponse=''\n",
    "        \n",
    "        if option=='audio':\n",
    "            print(\"Speak Now\")\n",
    "\n",
    "            audio = recognizer.record(input_source, duration=5)\n",
    "\n",
    "            \n",
    "            voice = recognizer.recognize_google(audio, language=\"en-IN\",show_all = True)\n",
    "            \n",
    "            \n",
    "            if len(voice)==0:\n",
    "                print('Your voice not recognized please try again')\n",
    "                continue\n",
    "            myResponse=voice['alternative'][0]['transcript']\n",
    "            \n",
    "            print(\"Me: \", myResponse)\n",
    "        else:\n",
    "            myResponse = input(\"Me :\" ).lower()\n",
    "        if(myResponse!='bye'):\n",
    "            if(myResponse=='thanks' or myResponse=='thank you' ):\n",
    "                flag=False\n",
    "                print(\" You are welcome..\")\n",
    "                engine.say(\" You are welcome..\")\n",
    "                engine.runAndWait()\n",
    "            else:\n",
    "                if(greetResponse(myResponse)!=None):\n",
    "                    answer=greetResponse(myResponse)\n",
    "\n",
    "                    print(\"CBEBot: \"+ answer)\n",
    "                    engine.say(answer)\n",
    "                    engine.runAndWait()\n",
    "                else:\n",
    "                    print(\"CBEBot: \", end=\"\")\n",
    "                    answer=getResponse(myResponse)\n",
    "                    print(answer)\n",
    "                    sentTok.remove(myResponse)\n",
    "                    engine.say(answer)\n",
    "                    engine.runAndWait()\n",
    "        else:\n",
    "            flag=False\n",
    "            print(\"CBEBot: Bye! take care.. \")\n",
    "            engine.say(\" Bye! take care..\")\n",
    "            engine.runAndWait()"
   ]
  },
  {
   "cell_type": "code",
   "execution_count": null,
   "metadata": {},
   "outputs": [],
   "source": []
  }
 ],
 "metadata": {
  "kernelspec": {
   "display_name": "Python 3 (ipykernel)",
   "language": "python",
   "name": "python3"
  },
  "language_info": {
   "codemirror_mode": {
    "name": "ipython",
    "version": 3
   },
   "file_extension": ".py",
   "mimetype": "text/x-python",
   "name": "python",
   "nbconvert_exporter": "python",
   "pygments_lexer": "ipython3",
   "version": "3.9.13"
  }
 },
 "nbformat": 4,
 "nbformat_minor": 4
}
